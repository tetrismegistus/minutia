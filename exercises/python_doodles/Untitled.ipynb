{
 "cells": [
  {
   "cell_type": "markdown",
   "metadata": {},
   "source": [
    "__Math from **practical astronomy with your calculator** by Peter Duffett-Smith__"
   ]
  },
  {
   "cell_type": "code",
   "execution_count": 1,
   "metadata": {},
   "outputs": [],
   "source": [
    "from datetime import datetime\n",
    "\n",
    "def is_leapyear(year):\n",
    "    try:\n",
    "        assert year > 1582\n",
    "    except AssertionError:\n",
    "        raise AssertionError(\"Year must be greater than 1582\")        \n",
    "    \n",
    "    mod_4 = year % 4 == 0\n",
    "    mod_100 = year % 100 == 0\n",
    "    mod_400 = year % 400 == 0\n",
    "    if mod_4 and not mod_100:\n",
    "        return True\n",
    "    elif mod_4 and mod_100 and mod_400:\n",
    "        return True\n",
    "    else:\n",
    "        return False\n",
    "    \n",
    "    \n",
    "for x in range(2000, 2021):\n",
    "    if is_leapyear(x):\n",
    "        print(x)       "
   ]
  },
  {
   "cell_type": "code",
   "execution_count": 2,
   "metadata": {},
   "outputs": [
    {
     "data": {
      "text/plain": [
       "datetime.datetime(2019, 4, 21, 0, 0)"
      ]
     },
     "execution_count": 2,
     "metadata": {},
     "output_type": "execute_result"
    }
   ],
   "source": [
    "def get_easter(year):\n",
    "    a = year % 19\n",
    "    b, c = divmod(year, 100)    \n",
    "    d, e = divmod(b, 4)    \n",
    "    f = (b + 8) // 25\n",
    "    g = (b - f + 1) // 3\n",
    "    h = (19 * a + b - d - g + 15) % 30\n",
    "    i, k = divmod(c, 4)    \n",
    "    l = (32 + 2 * e + 2 * i - h - k) % 7\n",
    "    m = (a + 11 * h + 22 * l) // 451\n",
    "    o = (h + l - 7 * m + 114)\n",
    "    n, p = divmod(o, 31)    \n",
    "    day = p + 1\n",
    "    month = n\n",
    "    return datetime(day=day, month=month, year=year)\n",
    "\n",
    "get_easter(2019)"
   ]
  },
  {
   "cell_type": "code",
   "execution_count": 3,
   "metadata": {},
   "outputs": [
    {
     "data": {
      "text/plain": [
       "48"
      ]
     },
     "execution_count": 3,
     "metadata": {},
     "output_type": "execute_result"
    }
   ],
   "source": [
    "def get_day_number(dt):\n",
    "    month = dt.month\n",
    "    \n",
    "    leap_factor = 62 if is_leapyear(dt.year) else 63\n",
    "        \n",
    "    if month <= 2:\n",
    "        month -= 1\n",
    "        x = (month * leap_factor) // 2\n",
    "    else:\n",
    "        month += 1\n",
    "        x = ((month * 30.6) // 2) - leap_factor\n",
    "    return x + dt.day\n",
    "\n",
    "get_day_number(datetime(day=17, month=2, year=2019))"
   ]
  },
  {
   "cell_type": "code",
   "execution_count": null,
   "metadata": {},
   "outputs": [],
   "source": [
    "def julian_date(dt):\n",
    "    y, m, d, = dt.year, dt.month, dt.day\n",
    "    if m in range"
   ]
  }
 ],
 "metadata": {
  "kernelspec": {
   "display_name": "Python 3",
   "language": "python",
   "name": "python3"
  },
  "language_info": {
   "codemirror_mode": {
    "name": "ipython",
    "version": 3
   },
   "file_extension": ".py",
   "mimetype": "text/x-python",
   "name": "python",
   "nbconvert_exporter": "python",
   "pygments_lexer": "ipython3",
   "version": "3.7.3"
  }
 },
 "nbformat": 4,
 "nbformat_minor": 2
}
