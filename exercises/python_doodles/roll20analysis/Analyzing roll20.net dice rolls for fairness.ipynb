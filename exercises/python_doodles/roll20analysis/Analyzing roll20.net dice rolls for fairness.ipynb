{
 "cells": [
  {
   "cell_type": "markdown",
   "metadata": {},
   "source": [
    "# How Fair are Roll20.net's dice rolls?\n",
    "\n",
    "Friends of mine play dnd regularly on [roll20.net](https://roll20.net/) (certainly not me, I would never do something so geeky).  Anyway, I, I mean, my friends often complain that they get unexpected runs of high or low numbers that never seem to occur in real life.   Of course, I think there are some well known cognitive biases that seem relevant, such as [The Gambler's Fallacy](https://en.wikipedia.org/wiki/Gambler%27s_fallacy).\n",
    "\n",
    "So is the site fair? I don't know, but this is a perfect chance to call upon our decadant civilization's latest fetish: *science*.\n",
    "\n",
    "## Testing my methodology with python's random number generator.\n",
    "\n",
    "Okay, so first we need to bring in a bunch of tools made by people who are probably much closer to real scientists than me.  We'll be leaning heavily on the work of other people.  This is normal in science, I'm told, but theoretically I should verify that the tools I'm using are accurate."
   ]
  },
  {
   "cell_type": "code",
   "execution_count": 1,
   "metadata": {},
   "outputs": [],
   "source": [
    "import random\n",
    "import math\n",
    "\n",
    "import statistics\n",
    "import statsmodels.stats.api as sms\n",
    "import matplotlib.pyplot as plt\n",
    "import numpy as np\n",
    "import pandas as pd\n",
    "from scipy import stats\n",
    "%matplotlib inline"
   ]
  },
  {
   "cell_type": "markdown",
   "metadata": {},
   "source": [
    "First, let's declare some functions to help test with python's RNG (random number generator)."
   ]
  },
  {
   "cell_type": "code",
   "execution_count": 2,
   "metadata": {},
   "outputs": [],
   "source": [
    "def roll_n_sided_die(sides):\n",
    "    return random.randint(1, sides)\n",
    "\n",
    "\n",
    "def get_rolls(sides, repetitions):\n",
    "    rolls = []\n",
    "    for _ in range(repetitions):\n",
    "        rolls.append(roll_n_sided_die(sides))\n",
    "    return rolls\n",
    "\n",
    "\n",
    "def make_test_rolls(sides, reps):\n",
    "    return get_rolls(sides, reps)"
   ]
  },
  {
   "cell_type": "markdown",
   "metadata": {},
   "source": [
    "We will be using this histogram a lot (in both the python RNG tests and for the results I get from roll20.net), so let's go ahead and abstract it into a function."
   ]
  },
  {
   "cell_type": "code",
   "execution_count": 3,
   "metadata": {},
   "outputs": [],
   "source": [
    "def plot_rolls(roll_list, sides, obs):    \n",
    "    counts = [roll_list.count(i) for i in set(roll_list)]\n",
    "    \n",
    "    ideal_line = ((1/sides) * obs)\n",
    "    \n",
    "    xticks = [x for x in set(roll_list)]\n",
    "    # ci = sms.DescrStatsW(xticks).tconfint_mean()\n",
    "    # y_r = [i - sms.DescrStatsW(range(i)).tconfint_mean()[1] for i in xticks]\n",
    "        \n",
    "    plt.bar(xticks, height=counts, color=\"blue\", width=.75)\n",
    "    plt.xticks(xticks)\n",
    "        \n",
    "    plt.axhline(ideal_line, color=\"orange\", dashes=(4,2,1,2)) # pardon my magic numbers\n",
    "    plt.xlabel('Sides')\n",
    "    plt.ylabel('Observations')"
   ]
  },
  {
   "cell_type": "markdown",
   "metadata": {},
   "source": [
    "Using the built in random module in python we'll pretend to roll a 20 sided die 20 times"
   ]
  },
  {
   "cell_type": "code",
   "execution_count": 4,
   "metadata": {},
   "outputs": [
    {
     "data": {
      "image/png": "[encoded data removed]",
      "text/plain": [
       "<Figure size 432x288 with 1 Axes>"
      ]
     },
     "metadata": {
      "needs_background": "light"
     },
     "output_type": "display_data"
    }
   ],
   "source": [
    "sides = 20\n",
    "obs = 20\n",
    "rolls = make_test_rolls(sides, obs)\n",
    "plot_rolls(rolls, sides, obs)"
   ]
  },
  {
   "cell_type": "markdown",
   "metadata": {},
   "source": [
    "Of course, a small sample gives expectedly spotty results. Some sides never get rolled at all!  The orange dotted line indicates how many times we would ideally expect each side to appear (1 of the 20 sides for each of 20 rolls).\n",
    "\n",
    "### So how many rolls do we need?\n",
    "\n",
    "Well, I'm not clever enough to come up with this math all on by my lonesome self.  I referred heavily on a number of internet searches, and these three results are the basis of most of \"my\" \"work\":\n",
    "\n",
    "- [timothyweber.org](https://timothyweber.org/node/254), [this too](https://timothyweber.org/node/255)\n",
    "- [twoardsdatascience.com](https://towardsdatascience.com/running-chi-square-tests-in-python-with-die-roll-data-b9903817c51b)\n",
    "- [rpg.stackexchange.com](https://rpg.stackexchange.com/questions/70802/how-can-i-test-whether-a-die-is-fair)\n",
    "\n",
    "rpg.stackexchange.com says you need at least five times as many rolls as there are sides on the die.  So 100 for a d20. "
   ]
  },
  {
   "cell_type": "code",
   "execution_count": 5,
   "metadata": {},
   "outputs": [
    {
     "data": {
      "image/png": "[encoded data removed]",
      "text/plain": [
       "<Figure size 432x288 with 1 Axes>"
      ]
     },
     "metadata": {
      "needs_background": "light"
     },
     "output_type": "display_data"
    }
   ],
   "source": [
    "sides = 20\n",
    "obs = 100\n",
    "rolls = make_test_rolls(sides, obs)\n",
    "plot_rolls(rolls, sides, obs)"
   ]
  },
  {
   "cell_type": "markdown",
   "metadata": {},
   "source": [
    "But the results look all over the place.\n",
    "\n",
    "However, rpg.stackexchange.com was the odd man out and used a different methodology than my other two references, which preferred the chi-squared test. I expect the answer from rpg.stackexchange.com is meant to be the bare minimum for rolling dice manually, which takes a long time, even for 100 observations.  We do see here, however, that every side occurs at least twice in a 100 rolls, with a whopping 11 results of 19.\n",
    "\n",
    "Let's try another test."
   ]
  },
  {
   "cell_type": "code",
   "execution_count": 6,
   "metadata": {},
   "outputs": [
    {
     "data": {
      "image/png": "[encoded data removed]",
      "text/plain": [
       "<Figure size 432x288 with 1 Axes>"
      ]
     },
     "metadata": {
      "needs_background": "light"
     },
     "output_type": "display_data"
    }
   ],
   "source": [
    "obs = 20000\n",
    "rolls = make_test_rolls(sides, obs)\n",
    "plot_rolls(rolls, sides, obs)"
   ]
  },
  {
   "cell_type": "markdown",
   "metadata": {},
   "source": [
    "At 20000 rolls (which should favor 1000 observed results per side, c.f. the 1000 per 6 sides as done at [timothyweber.org](https://timothyweber.org/node/254)) you see the distribution is not flat completely flat, but it looks a hell of a lot more regular.  As I understand it, this is generally true of randomness.  The larger the number of observations, the more regular they should become.  So things are looking pretty good so far for python's RNG."
   ]
  },
  {
   "cell_type": "markdown",
   "metadata": {},
   "source": [
    "## Testing roll20.net's roll function for fairness"
   ]
  },
  {
   "cell_type": "markdown",
   "metadata": {},
   "source": [
    "So getting the rolls from roll20 was the first challenge.  You can roll a number of n-sided die in one command, and copy and paste the response from the chat window, which tends to format each number, +, and ( or ) symbol on its own line.  No problem.  a computer can sort of the junk easily enough."
   ]
  },
  {
   "cell_type": "code",
   "execution_count": 7,
   "metadata": {},
   "outputs": [],
   "source": [
    "def read_roll20_rolls(filename):\n",
    "    with open(filename, 'r') as f:\n",
    "        rolls = f.readlines()\n",
    "    rolls = [line.strip() for line in rolls]\n",
    "    rolls = [line for line in rolls if line not in '()+']\n",
    "    rolls = [float(line) for line in rolls]\n",
    "    return rolls"
   ]
  },
  {
   "cell_type": "markdown",
   "metadata": {},
   "source": [
    "Though my second road bump was realizing that roll20 silently limits the number of dice you can roll in a single command (I'm guessing to stop people from spamming chat).  On copying and pasting the results of the command `/roll 20000d20` I found that I received slightly less than a 1000 integers.  Rolling `1000d20` returned also slightly less than 1000.  \n",
    "\n",
    "So my solution was to manually roll in batches of 500 and manually copy the results into a single text file.  A bit tedious and error prone, so keep in mind that though I tried to be careful, I could have slipped up on any one or more copy operations.  \n",
    "\n",
    "**This is not a rigorous science shop.  This is a barely holding it together mad science shop of a caffeinated nerd with not enough patience for real science.**"
   ]
  },
  {
   "cell_type": "code",
   "execution_count": 8,
   "metadata": {},
   "outputs": [
    {
     "name": "stdout",
     "output_type": "stream",
     "text": [
      "10000 observations\n"
     ]
    },
    {
     "data": {
      "image/png": "[encoded data removed]",
      "text/plain": [
       "<Figure size 432x288 with 1 Axes>"
      ]
     },
     "metadata": {
      "needs_background": "light"
     },
     "output_type": "display_data"
    }
   ],
   "source": [
    "sides=20\n",
    "rolls = read_roll20_rolls('data/rolls3.txt')\n",
    "obs = len(rolls)\n",
    "print(\"{} observations\".format(obs))\n",
    "plot_rolls(rolls, sides, obs)"
   ]
  },
  {
   "cell_type": "code",
   "execution_count": 9,
   "metadata": {},
   "outputs": [
    {
     "data": {
      "text/plain": [
       "(19.98482260012711, 115.0151773998729)"
      ]
     },
     "execution_count": 9,
     "metadata": {},
     "output_type": "execute_result"
    }
   ],
   "source": [
    "sms.DescrStatsW([30, 100, 60, 80]).tconfint_mean()"
   ]
  },
  {
   "cell_type": "code",
   "execution_count": 10,
   "metadata": {},
   "outputs": [
    {
     "data": {
      "text/plain": [
       "10.01517739987289"
      ]
     },
     "execution_count": 10,
     "metadata": {},
     "output_type": "execute_result"
    }
   ],
   "source": [
    "30 - 19.98482260012711"
   ]
  },
  {
   "cell_type": "code",
   "execution_count": null,
   "metadata": {},
   "outputs": [],
   "source": []
  },
  {
   "cell_type": "code",
   "execution_count": 11,
   "metadata": {},
   "outputs": [],
   "source": [
    "obs = [600, 470, 170, 430, 300]\n",
    "n = len(obs)\n",
    "m = statistics.mean(obs)\n",
    "std_d = np.std(obs)\n",
    "z = 2.807"
   ]
  },
  {
   "cell_type": "code",
   "execution_count": 12,
   "metadata": {},
   "outputs": [
    {
     "data": {
      "text/plain": [
       "(189.48320139232717, 598.5167986076729)"
      ]
     },
     "execution_count": 12,
     "metadata": {},
     "output_type": "execute_result"
    }
   ],
   "source": [
    "sms.DescrStatsW(obs).tconfint_mean()"
   ]
  },
  {
   "cell_type": "code",
   "execution_count": 13,
   "metadata": {},
   "outputs": [
    {
     "data": {
      "text/plain": [
       "578.9384872307546"
      ]
     },
     "execution_count": 13,
     "metadata": {},
     "output_type": "execute_result"
    }
   ],
   "source": []
  },
  {
   "cell_type": "code",
   "execution_count": 14,
   "metadata": {},
   "outputs": [
    {
     "data": {
      "text/plain": [
       "181.19806421393002"
      ]
     },
     "execution_count": 14,
     "metadata": {},
     "output_type": "execute_result"
    }
   ],
   "source": [
    "m = 175\n",
    "z = 1.960\n",
    "std_d = 20\n",
    "n = 40\n",
    "m + z * (std_d/math.sqrt(n))"
   ]
  },
  {
   "cell_type": "code",
   "execution_count": 15,
   "metadata": {},
   "outputs": [
    {
     "data": {
      "text/plain": [
       "(10.444456199307691, 10.67234380069231)"
      ]
     },
     "execution_count": 15,
     "metadata": {},
     "output_type": "execute_result"
    }
   ],
   "source": [
    "sms.DescrStatsW(rolls).tconfint_mean()"
   ]
  },
  {
   "cell_type": "code",
   "execution_count": null,
   "metadata": {},
   "outputs": [],
   "source": []
  }
 ],
 "metadata": {
  "kernelspec": {
   "display_name": "Python 3",
   "language": "python",
   "name": "python3"
  },
  "language_info": {
   "codemirror_mode": {
    "name": "ipython",
    "version": 3
   },
   "file_extension": ".py",
   "mimetype": "text/x-python",
   "name": "python",
   "nbconvert_exporter": "python",
   "pygments_lexer": "ipython3",
   "version": "3.7.3"
  }
 },
 "nbformat": 4,
 "nbformat_minor": 2
}
