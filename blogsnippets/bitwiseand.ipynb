{
 "cells": [
  {
   "cell_type": "code",
   "execution_count": 1,
   "metadata": {},
   "outputs": [
    {
     "name": "stdout",
     "output_type": "stream",
     "text": [
      "binary\t\tdecimal\n",
      "  0000001\t      1\n",
      "& 0000001\t      1\n",
      "---------\n",
      "  0000001\t      1\n",
      "\n",
      "  0001100\t     12\n",
      "& 0000000\t      0\n",
      "---------\n",
      "  0000000\t      0\n",
      "\n",
      "  0111101\t     61\n",
      "& 1100011\t     99\n",
      "---------\n",
      "  0100001\t     33\n",
      "\n",
      "  0011111\t     31\n",
      "& 0000111\t      7\n",
      "---------\n",
      "  0000111\t      7\n",
      "\n"
     ]
    }
   ],
   "source": [
    "integers1 = [1, 12, 61, 31]\n",
    "integers2 = [1, 0, 99, 7]\n",
    "\n",
    "print('binary\\t\\tdecimal')\n",
    "for i1, i2 in zip(integers1, integers2):\n",
    "    result = i1 & i2\n",
    "    print('  {0:07b}\\t{1:7}'.format(i1, i1))\n",
    "    print('& {0:07b}\\t{1:7}'.format(i2, i2))\n",
    "    print('---------')\n",
    "    print('  {0:07b}\\t{1:7}'.format(result, result))\n",
    "    print('')"
   ]
  }
 ],
 "metadata": {
  "kernelspec": {
   "display_name": "Python 3",
   "language": "python",
   "name": "python3"
  },
  "language_info": {
   "codemirror_mode": {
    "name": "ipython",
    "version": 3
   },
   "file_extension": ".py",
   "mimetype": "text/x-python",
   "name": "python",
   "nbconvert_exporter": "python",
   "pygments_lexer": "ipython3",
   "version": "3.6.4"
  }
 },
 "nbformat": 4,
 "nbformat_minor": 2
}
