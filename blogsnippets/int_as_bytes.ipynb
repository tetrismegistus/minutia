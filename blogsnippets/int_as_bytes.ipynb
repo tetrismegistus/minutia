{
 "cells": [
  {
   "cell_type": "code",
   "execution_count": 1,
   "metadata": {
    "collapsed": false
   },
   "outputs": [
    {
     "name": "stdout",
     "output_type": "stream",
     "text": [
      "11111111 11111111 11111111 11111100 \n",
      "FF  FF  FF  FC  "
     ]
    }
   ],
   "source": [
    "int_in_bytes = (-4).to_bytes(4, 'big', signed=True)\n",
    "\n",
    "# print the binary represenation\n",
    "for b in int_in_bytes:\n",
    "    print('{:04b}'.format(b), end =' ')\n",
    "\n",
    "print()        \n",
    "    \n",
    "# print the hexadecimal representation\n",
    "for b in int_in_bytes:\n",
    "    print('{:02X} '.format(b), end=' ')"
   ]
  }
 ],
 "metadata": {
  "kernelspec": {
   "display_name": "Python 3",
   "language": "python",
   "name": "python3"
  },
  "language_info": {
   "codemirror_mode": {
    "name": "ipython",
    "version": 3
   },
   "file_extension": ".py",
   "mimetype": "text/x-python",
   "name": "python",
   "nbconvert_exporter": "python",
   "pygments_lexer": "ipython3",
   "version": "3.5.0"
  }
 },
 "nbformat": 4,
 "nbformat_minor": 2
}
