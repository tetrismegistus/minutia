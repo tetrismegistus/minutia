{
 "cells": [
  {
   "cell_type": "code",
   "execution_count": 1,
   "metadata": {},
   "outputs": [
    {
     "name": "stdout",
     "output_type": "stream",
     "text": [
      "-4 == -100 and is negative\n",
      "-3 == -011 and is negative\n",
      "-2 == -010 and is negative\n",
      "-1 == -001 and is negative\n",
      "+0 == +000 and is positive\n",
      "+1 == +001 and is positive\n",
      "+2 == +010 and is positive\n",
      "+3 == +011 and is positive\n",
      "+4 == +100 and is positive\n"
     ]
    }
   ],
   "source": [
    "for x in range(-4, 5):\n",
    "    sign = \"negative\" if ((x >> 31) & 1) else \"positive\"\n",
    "    print('{:+} == {:+04b} and is {}'.format(x, x, sign))"
   ]
  }
 ],
 "metadata": {
  "kernelspec": {
   "display_name": "Python 3",
   "language": "python",
   "name": "python3"
  },
  "language_info": {
   "codemirror_mode": {
    "name": "ipython",
    "version": 3
   },
   "file_extension": ".py",
   "mimetype": "text/x-python",
   "name": "python",
   "nbconvert_exporter": "python",
   "pygments_lexer": "ipython3",
   "version": "3.6.5"
  }
 },
 "nbformat": 4,
 "nbformat_minor": 2
}
